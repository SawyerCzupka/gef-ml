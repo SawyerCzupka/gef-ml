{
 "cells": [
  {
   "cell_type": "code",
   "execution_count": 2,
   "metadata": {},
   "outputs": [
    {
     "name": "stderr",
     "output_type": "stream",
     "text": [
      "2024-03-04 18:22:25,122 - gef_ml.ingestion - \u001b[32mINFO\u001b[0m - Initializing StreamingIngestion for directory: ../data/gef-6/\u001b[0m\n"
     ]
    }
   ],
   "source": [
    "from gef_ml.ingestion import TextCleaner, StreamingIngestion\n",
    "\n",
    "ingest_manager = StreamingIngestion(directory=\"../data/gef-6/\")"
   ]
  },
  {
   "cell_type": "code",
   "execution_count": 3,
   "metadata": {},
   "outputs": [
    {
     "name": "stderr",
     "output_type": "stream",
     "text": [
      "2024-03-04 18:22:58,490 - gef_ml.ingestion - \u001b[32mINFO\u001b[0m - Ingesting documents for project ID: 6947 from ../data/gef-6/6947\u001b[0m\n",
      "2024-03-04 18:23:02,979 - gef_ml.ingestion - \u001b[32mINFO\u001b[0m - Loaded 135 documents for project 6947.\u001b[0m\n",
      "/home/sawyer/git/gef-ml/.venv/lib/python3.10/site-packages/tqdm/auto.py:21: TqdmWarning: IProgress not found. Please update jupyter and ipywidgets. See https://ipywidgets.readthedocs.io/en/stable/user_install.html\n",
      "  from .autonotebook import tqdm as notebook_tqdm\n",
      "Parsing nodes: 100%|██████████| 135/135 [00:00<00:00, 561.69it/s]\n",
      "2024-03-04 18:23:03,329 - gef_ml.ingestion - \u001b[32mINFO\u001b[0m - Processed 315 documents for project 6947.\u001b[0m\n"
     ]
    }
   ],
   "source": [
    "proj6947 = ingest_manager._ingest_project_id(\"6947\")"
   ]
  },
  {
   "cell_type": "code",
   "execution_count": 55,
   "metadata": {},
   "outputs": [
    {
     "data": {
      "text/plain": [
       "' Moderate \\uf06c Moderate \\uf06c Moderate Results Project Development Objective Indicators PHINDPDOTBL \\uf075 Area  of young and middle-aged production-forest thinned  according to approved management plans (Hectare(Ha), Custom) Baseline Actual  (Previous) Actual  (Current) End Target Value 132,500.00 151,574.20 53,500.00 165,000.00 Date 27-Mar-2015 30-Jun-2017 31-Dec-2017 31-Aug-2020 Comments The Year 3 actual value has been  updated  based  on the semi-annual progress report.  The current  actual amount  is less than the planned  amount of 160,000.00 HA because there  was a priority placed on sanitary clear  cutting to remove dead and dying trees affected by pine  bark beetle infestations before undertaking other  types of harvesting in Belarus. PHINDPDOTBL \\uf075 Economic performance of participating SFEs enhanced  (Amount(USD), Custom) Baseline Actual  (Previous) Actual  (Current) End Target Value 0.00 7,680,000.00 4,083,180.00 15,826,000.00 Date 27-Mar-2015 30-Jun-2017 31-Dec-2017 31-Aug-2020 Comments The Year 3 actual value has been  updated  based  on the semi-annual progress report.  The actual is less than planned as this is the 6  months figure, and nurseries are not yet productive.'"
      ]
     },
     "execution_count": 55,
     "metadata": {},
     "output_type": "execute_result"
    }
   ],
   "source": [
    "proj6947[10]"
   ]
  },
  {
   "cell_type": "code",
   "execution_count": 69,
   "metadata": {},
   "outputs": [
    {
     "name": "stdout",
     "output_type": "stream",
     "text": [
      "Filtered out 88 nodes\n",
      "Left with percent of 72.06349206349206% of the nodes\n"
     ]
    }
   ],
   "source": [
    "filtered = []\n",
    "\n",
    "\n",
    "passed = 0\n",
    "for node in proj6947:\n",
    "    # Check for unicode strings in the text. Ex. \\u201c\n",
    "    node_hash = \"044ef34f8a47224cea67db33cff9bc47afb761c9843ce294eef117770995338c\"\n",
    "    if node.metadata['doc_id'] == '3':\n",
    "        # print(\"Found node\")\n",
    "        filtered.append(node)\n",
    "        passed += 1\n",
    "\n",
    "print(f\"Filtered out {len(proj6947) - passed} nodes\")\n",
    "print(f\"Left with percent of {passed/len(proj6947) * 100}% of the nodes\")"
   ]
  },
  {
   "cell_type": "code",
   "execution_count": 73,
   "metadata": {},
   "outputs": [],
   "source": [
    "two = []\n",
    "\n",
    "for node in filtered:\n",
    "    string = \"P147760\"\n",
    "    \n",
    "    if string in node.text:\n",
    "        two.append(node)"
   ]
  },
  {
   "cell_type": "code",
   "execution_count": 84,
   "metadata": {},
   "outputs": [
    {
     "data": {
      "text/plain": [
       "'The World Bank    Forestr y Development Pro ject (P147760 )           Page 57 of 78      control. In Ireland, the cost of reforestation  by planting is reduced by 30 percent where sites have had  their harvest residues removed;  however,  no such savings are calculated  ex post due to lack of local data.  Benefits from Improved  Forest Nursery Capacity and Survival Rates  18. Financial efficiency.  The project financed additional  annual production  capacity of 25.1 million  ‘closed root’ seedlings  with the construction  or rehabilitation  of four nurseries,  which now meet the  highest international  standards.  At appraisal,  10 nurseries  were expected,  and the overall IRR was –17.3  percent. Ex post, the analysis reflects the actual capital outlay on the four nurseries,  cost and revenue  adjustments  to reflect the actual employment  levels in the built nurseries,  the increased  capacity of each  nursery (five times the production  of the nurseries  envisaged  at the ex ante stage). higher seedling prices,  and a 15 percent reduction  in seedling costs due to improved  survival rates. See table 4.2. Error!  Reference  source not found. for amendments  to financial analysis in the nursery investments.    19.'"
      ]
     },
     "execution_count": 84,
     "metadata": {},
     "output_type": "execute_result"
    }
   ],
   "source": [
    "two[58].text"
   ]
  },
  {
   "cell_type": "code",
   "execution_count": 79,
   "metadata": {},
   "outputs": [],
   "source": [
    "cleaner = TextCleaner()\n",
    "\n",
    "cleaned = cleaner(two)"
   ]
  },
  {
   "cell_type": "code",
   "execution_count": 91,
   "metadata": {},
   "outputs": [
    {
     "data": {
      "text/plain": [
       "'page_label: 61\\nfile_name: /home/sawyer/git/gef-ml/notebooks/../data/gef-6/6947/p6947_doc3.pdf\\nfilename: p6947_doc3.pdf\\nextension: .pdf\\nproject_id: 6947\\ndoc_id: 3\\n\\nThe World Bank    Forestr y Development Pro ject (P147760 )           Page 57 of 78      control. In Ireland, the cost of reforestation  by planting is reduced by 30 percent where sites have had  their harvest residues removed;  however,  no such savings are calculated  ex post due to lack of local data.  Benefits from Improved  Forest Nursery Capacity and Survival Rates  18. Financial efficiency.  The project financed additional  annual production  capacity of 25.1 million  ‘closed root’ seedlings  with the construction  or rehabilitation  of four nurseries,  which now meet the  highest international  standards.  At appraisal,  10 nurseries  were expected,  and the overall IRR was –17.3  percent. Ex post, the analysis reflects the actual capital outlay on the four nurseries,  cost and revenue  adjustments  to reflect the actual employment  levels in the built nurseries,  the increased  capacity of each  nursery (five times the production  of the nurseries  envisaged  at the ex ante stage). higher seedling prices,  and a 15 percent reduction  in seedling costs due to improved  survival rates. See table 4.2. Error!  Reference  source not found. for amendments  to financial analysis in the nursery investments.    19.'"
      ]
     },
     "execution_count": 91,
     "metadata": {},
     "output_type": "execute_result"
    }
   ],
   "source": [
    "from llama_index.core.schema import MetadataMode\n",
    "two[58].get_content(MetadataMode.ALL)"
   ]
  },
  {
   "cell_type": "markdown",
   "metadata": {},
   "source": []
  },
  {
   "cell_type": "code",
   "execution_count": 87,
   "metadata": {},
   "outputs": [
    {
     "name": "stderr",
     "output_type": "stream",
     "text": [
      "2024-03-04 18:45:16,310 - httpx - \u001b[32mINFO\u001b[0m - HTTP Request: GET http://localhost:6333/collections/gef_6_512_64 \"HTTP/1.1 200 OK\"\u001b[0m\n"
     ]
    }
   ],
   "source": [
    "from gef_ml.utils import get_qdrant_vectorstore\n",
    "\n",
    "vectorstore = get_qdrant_vectorstore(collection_name=\"gef_6_512_64\")"
   ]
  },
  {
   "cell_type": "code",
   "execution_count": null,
   "metadata": {},
   "outputs": [],
   "source": [
    "retriever = vectorstore."
   ]
  }
 ],
 "metadata": {
  "kernelspec": {
   "display_name": ".venv",
   "language": "python",
   "name": "python3"
  },
  "language_info": {
   "codemirror_mode": {
    "name": "ipython",
    "version": 3
   },
   "file_extension": ".py",
   "mimetype": "text/x-python",
   "name": "python",
   "nbconvert_exporter": "python",
   "pygments_lexer": "ipython3",
   "version": "3.10.12"
  }
 },
 "nbformat": 4,
 "nbformat_minor": 2
}
