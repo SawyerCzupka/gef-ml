{
 "cells": [
  {
   "cell_type": "code",
   "execution_count": 2,
   "metadata": {},
   "outputs": [
    {
     "name": "stderr",
     "output_type": "stream",
     "text": [
      "2024-03-04 18:22:25,122 - gef_ml.ingestion - \u001b[32mINFO\u001b[0m - Initializing StreamingIngestion for directory: ../data/gef-6/\u001b[0m\n"
     ]
    }
   ],
   "source": [
    "from gef_ml.ingestion import TextCleaner, StreamingIngestion\n",
    "\n",
    "ingest_manager = StreamingIngestion(directory=\"../data/gef-6/\")"
   ]
  },
  {
   "cell_type": "code",
   "execution_count": 3,
   "metadata": {},
   "outputs": [
    {
     "name": "stderr",
     "output_type": "stream",
     "text": [
      "2024-03-04 18:22:58,490 - gef_ml.ingestion - \u001b[32mINFO\u001b[0m - Ingesting documents for project ID: 6947 from ../data/gef-6/6947\u001b[0m\n",
      "2024-03-04 18:23:02,979 - gef_ml.ingestion - \u001b[32mINFO\u001b[0m - Loaded 135 documents for project 6947.\u001b[0m\n",
      "/home/sawyer/git/gef-ml/.venv/lib/python3.10/site-packages/tqdm/auto.py:21: TqdmWarning: IProgress not found. Please update jupyter and ipywidgets. See https://ipywidgets.readthedocs.io/en/stable/user_install.html\n",
      "  from .autonotebook import tqdm as notebook_tqdm\n",
      "Parsing nodes: 100%|██████████| 135/135 [00:00<00:00, 561.69it/s]\n",
      "2024-03-04 18:23:03,329 - gef_ml.ingestion - \u001b[32mINFO\u001b[0m - Processed 315 documents for project 6947.\u001b[0m\n"
     ]
    }
   ],
   "source": [
    "proj6947 = ingest_manager._ingest_project_id(\"6947\")"
   ]
  },
  {
   "cell_type": "code",
   "execution_count": 55,
   "metadata": {},
   "outputs": [
    {
     "data": {
      "text/plain": [
       "' Moderate \\uf06c Moderate \\uf06c Moderate Results Project Development Objective Indicators PHINDPDOTBL \\uf075 Area  of young and middle-aged production-forest thinned  according to approved management plans (Hectare(Ha), Custom) Baseline Actual  (Previous) Actual  (Current) End Target Value 132,500.00 151,574.20 53,500.00 165,000.00 Date 27-Mar-2015 30-Jun-2017 31-Dec-2017 31-Aug-2020 Comments The Year 3 actual value has been  updated  based  on the semi-annual progress report.  The current  actual amount  is less than the planned  amount of 160,000.00 HA because there  was a priority placed on sanitary clear  cutting to remove dead and dying trees affected by pine  bark beetle infestations before undertaking other  types of harvesting in Belarus. PHINDPDOTBL \\uf075 Economic performance of participating SFEs enhanced  (Amount(USD), Custom) Baseline Actual  (Previous) Actual  (Current) End Target Value 0.00 7,680,000.00 4,083,180.00 15,826,000.00 Date 27-Mar-2015 30-Jun-2017 31-Dec-2017 31-Aug-2020 Comments The Year 3 actual value has been  updated  based  on the semi-annual progress report.  The actual is less than planned as this is the 6  months figure, and nurseries are not yet productive.'"
      ]
     },
     "execution_count": 55,
     "metadata": {},
     "output_type": "execute_result"
    }
   ],
   "source": [
    "proj6947[10]"
   ]
  },
  {
   "cell_type": "code",
   "execution_count": 69,
   "metadata": {},
   "outputs": [
    {
     "name": "stdout",
     "output_type": "stream",
     "text": [
      "Filtered out 88 nodes\n",
      "Left with percent of 72.06349206349206% of the nodes\n"
     ]
    }
   ],
   "source": [
    "filtered = []\n",
    "\n",
    "\n",
    "passed = 0\n",
    "for node in proj6947:\n",
    "    # Check for unicode strings in the text. Ex. \\u201c\n",
    "    node_hash = \"044ef34f8a47224cea67db33cff9bc47afb761c9843ce294eef117770995338c\"\n",
    "    if node.metadata['doc_id'] == '3':\n",
    "        # print(\"Found node\")\n",
    "        filtered.append(node)\n",
    "        passed += 1\n",
    "\n",
    "print(f\"Filtered out {len(proj6947) - passed} nodes\")\n",
    "print(f\"Left with percent of {passed/len(proj6947) * 100}% of the nodes\")"
   ]
  },
  {
   "cell_type": "code",
   "execution_count": null,
   "metadata": {},
   "outputs": [],
   "source": [
    "for node in filtered:\n",
    "    string = \"P147760\"\n",
    "    \n",
    "    if string in node.text:\n",
    "        print(node.metadata['doc_id'])\n",
    "        print(node.text)\n",
    "        print(\"===\")\n",
    "        print(\"\\n\\n\")"
   ]
  },
  {
   "cell_type": "code",
   "execution_count": 72,
   "metadata": {},
   "outputs": [
    {
     "data": {
      "text/plain": [
       "'Official Use CURRENCY  EQUIVALENTS   (Exchange  Rate Effective February 17, 2022)    Currency Unit =   Belarusian  Ruble (BYR)  2.55625 BYR = US$1         FISCAL YEAR  July 1 ‐ June 30      ABBREVIATIONS  AND ACRONYMS     AF  Additional  Financing   BFDP  Belarus Forestry Development  Project  BFF  Boiler and Furnace Fuels  CPF  Country Partnership  Framework   ENPV  Economic  Net Present Value  ERR  Economic  Rate of Return  ESMP  Environmental  and Social Management  Plan  EU  European  Union  EX‐ACT  EX‐Ante Carbon‐Balance Tool  FM  Financial Management   FSC  Forest Stewardship  Council  GDP  Gross Domestic  Product  GEF  Global Environment  Facility  GHG  Greenhouse  Gas  GRM  Grievance  Redress Mechanism   IBRD  International  Bank for Reconstruction  and Development   ICR  Implementation  Completion  and Results Report  IRR  Internal Rate of Return  ISR  Implementation  Status and Results Report  M&E  Monitoring  and Evaluation   NPV  Net Present Value  PAD  Project Appraisal  Document   PIU  Project Implementation  Unit  PDO  Project Development  Objective   RBF  Results‐Based Framework   RUE  Republican  Unitary Enterprise   SFE  State Forest Enterprise   SFM  Sustainable  Forest Management   STEP  Systematic  Tracking of Exchanges  in Procurement   TTL  Task Team Leader  ToC  Theory of Change'"
      ]
     },
     "execution_count": 72,
     "metadata": {},
     "output_type": "execute_result"
    }
   ],
   "source": [
    "filtered[1].text"
   ]
  },
  {
   "cell_type": "code",
   "execution_count": 68,
   "metadata": {},
   "outputs": [
    {
     "data": {
      "text/plain": [
       "0"
      ]
     },
     "execution_count": 68,
     "metadata": {},
     "output_type": "execute_result"
    }
   ],
   "source": [
    "passed"
   ]
  },
  {
   "cell_type": "code",
   "execution_count": null,
   "metadata": {},
   "outputs": [],
   "source": []
  }
 ],
 "metadata": {
  "kernelspec": {
   "display_name": ".venv",
   "language": "python",
   "name": "python3"
  },
  "language_info": {
   "codemirror_mode": {
    "name": "ipython",
    "version": 3
   },
   "file_extension": ".py",
   "mimetype": "text/x-python",
   "name": "python",
   "nbconvert_exporter": "python",
   "pygments_lexer": "ipython3",
   "version": "3.10.12"
  }
 },
 "nbformat": 4,
 "nbformat_minor": 2
}
