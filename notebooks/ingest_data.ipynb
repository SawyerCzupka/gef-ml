{
 "cells": [
  {
   "cell_type": "markdown",
   "metadata": {},
   "source": [
    "# Ingesting Data into Qdrant\n",
    "This notebook showcases how to use the `gef-ml` package to create the initial vector database with documents from `/data`.\n",
    "\n",
    "This assumes data has already been downloaded into `/data/dumps/`"
   ]
  },
  {
   "cell_type": "code",
   "execution_count": null,
   "metadata": {},
   "outputs": [],
   "source": []
  },
  {
   "cell_type": "code",
   "execution_count": null,
   "metadata": {},
   "outputs": [],
   "source": [
    "from llama_index.vector_stores.qdrant import QdrantVectorStore\n",
    "from qdrant_client import QdrantClient\n",
    "\n",
    "qdrant_client = QdrantClient(\n",
    "    location=\"http://localhost:6333\",\n",
    ")\n",
    "vector_store = QdrantVectorStore(client=qdrant_client, collection_name=\"temp_collection\")"
   ]
  },
  {
   "cell_type": "code",
   "execution_count": null,
   "metadata": {},
   "outputs": [],
   "source": [
    "from gef_ml.ingestion import get_pipeline\n",
    "\n",
    "ingest_pipeline = get_pipeline(vector_store)"
   ]
  },
  {
   "cell_type": "markdown",
   "metadata": {},
   "source": [
    "## Run the pipeline on a single document"
   ]
  },
  {
   "cell_type": "code",
   "execution_count": null,
   "metadata": {},
   "outputs": [],
   "source": [
    "from llama_index.readers.file import PDFReader"
   ]
  },
  {
   "cell_type": "markdown",
   "metadata": {},
   "source": [
    "# Testing"
   ]
  },
  {
   "cell_type": "code",
   "execution_count": 1,
   "metadata": {},
   "outputs": [],
   "source": [
    "from gef_ml.ingestion import StreamingIngestion\n",
    "from gef_ml.utils import get_qdrant_vectorstore\n",
    "import aiohttp"
   ]
  },
  {
   "cell_type": "code",
   "execution_count": 2,
   "metadata": {},
   "outputs": [
    {
     "name": "stderr",
     "output_type": "stream",
     "text": [
      "2024-03-04 13:21:14,309 - httpx - INFO - HTTP Request: DELETE http://localhost:6333/collections/temp \"HTTP/1.1 200 OK\"\n"
     ]
    },
    {
     "name": "stderr",
     "output_type": "stream",
     "text": [
      "2024-03-04 13:21:14,601 - httpx - INFO - HTTP Request: PUT http://localhost:6333/collections/temp \"HTTP/1.1 200 OK\"\n",
      "2024-03-04 13:21:14,606 - httpx - INFO - HTTP Request: GET http://localhost:6333/collections/temp \"HTTP/1.1 200 OK\"\n",
      "2024-03-04 13:21:14,610 - gef_ml.ingestion - INFO - Initializing StreamingIngestion for directory: ../data/to_ingest/\n"
     ]
    }
   ],
   "source": [
    "vector_store = get_qdrant_vectorstore(collection_name=\"temp\")\n",
    "\n",
    "ingest_manager = StreamingIngestion(\n",
    "    directory=\"../data/to_ingest/\", vector_store=vector_store\n",
    ")"
   ]
  },
  {
   "cell_type": "code",
   "execution_count": 3,
   "metadata": {},
   "outputs": [
    {
     "name": "stderr",
     "output_type": "stream",
     "text": [
      "2024-03-04 13:21:14,868 - gef_ml.ingestion - INFO - Ingesting documents for project ID: 6930 from ../data/to_ingest/6930\n",
      "2024-03-04 13:21:15,909 - gef_ml.ingestion - INFO - Loaded 15 documents for project 6930.\n",
      "/home/sawyer/git/gef-ml/.venv/lib/python3.10/site-packages/tqdm/auto.py:21: TqdmWarning: IProgress not found. Please update jupyter and ipywidgets. See https://ipywidgets.readthedocs.io/en/stable/user_install.html\n",
      "  from .autonotebook import tqdm as notebook_tqdm\n",
      "Parsing nodes: 100%|██████████| 15/15 [00:00<00:00, 1054.99it/s]\n",
      "2024-03-04 13:21:15,931 - gef_ml.ingestion - INFO - Processed 22 documents for project 6930.\n"
     ]
    }
   ],
   "source": [
    "nodes = ingest_manager._ingest_project_id(\"6930\")"
   ]
  },
  {
   "cell_type": "code",
   "execution_count": 4,
   "metadata": {},
   "outputs": [],
   "source": [
    "from collections.abc import Collection\n",
    "from typing import Any\n",
    "\n",
    "def print_types_simplified_corrected(obj, indent=0):\n",
    "    \"\"\"\n",
    "    Recursively prints the types of any object, including nested structures such as dictionaries,\n",
    "    lists, sets, and other collections, simplifying the output for containers of primitives\n",
    "    by not listing individual primitives.\n",
    "\n",
    "    Args:\n",
    "    - obj: The object whose type information is to be printed.\n",
    "    - indent (int): The current indentation level for pretty printing.\n",
    "    \"\"\"\n",
    "    prefix = \" \" * indent\n",
    "    if isinstance(obj, dict):\n",
    "        print(f\"{prefix}{type(obj).__name__} containing:\")\n",
    "        for key, value in obj.items():\n",
    "            print(f\"{prefix}  Key type: {type(key).__name__}, Value type: \", end=\"\")\n",
    "            print_types_simplified_corrected(value, indent + 4)\n",
    "    elif isinstance(obj, Collection) and not isinstance(obj, str):\n",
    "        item_types = {type(item).__name__ for item in obj}\n",
    "        if len(item_types) == 1:\n",
    "            item_type = next(iter(item_types))  # Use next(iter()) to safely access the first item\n",
    "            if item_type in [\"int\", \"float\", \"str\", \"bool\", \"NoneType\"]:\n",
    "                print(f\"{prefix}{type(obj).__name__} of {item_type} items\")\n",
    "                return\n",
    "        print(f\"{prefix}{type(obj).__name__} of mixed types\")\n",
    "        for item in obj:\n",
    "            print_types_simplified_corrected(item, indent + 4)\n",
    "    else:\n",
    "        print(f\"{prefix}{type(obj).__name__}\")"
   ]
  },
  {
   "cell_type": "code",
   "execution_count": 5,
   "metadata": {},
   "outputs": [],
   "source": [
    "def print_types_with_key_names(obj, key_name=None, indent=0):\n",
    "    \"\"\"\n",
    "    Recursively prints the types of any object, including nested structures such as dictionaries,\n",
    "    lists, sets, and other collections, simplifying the output for containers of primitives\n",
    "    by not listing individual primitives. It includes the key names for dictionary entries.\n",
    "\n",
    "    Args:\n",
    "    - obj: The object whose type information is to be printed.\n",
    "    - key_name: The name of the key (if any) associated with the current object.\n",
    "    - indent (int): The current indentation level for pretty printing.\n",
    "    \"\"\"\n",
    "    prefix = \" \" * indent\n",
    "    key_str = f\"'{key_name}' \" if key_name else \"\"\n",
    "    if isinstance(obj, dict):\n",
    "        print(f\"{prefix}{key_str}{type(obj).__name__} containing:\")\n",
    "        for key, value in obj.items():\n",
    "            print_types_with_key_names(value, key_name=key, indent=indent + 4)\n",
    "    elif isinstance(obj, Collection) and not isinstance(obj, str):\n",
    "        item_types = {type(item).__name__ for item in obj}\n",
    "        if len(item_types) == 1:\n",
    "            item_type = next(iter(item_types))  # Use next(iter()) to safely access the first item\n",
    "            if item_type in [\"int\", \"float\", \"str\", \"bool\", \"NoneType\"]:\n",
    "                print(f\"{prefix}{key_str}{type(obj).__name__} of {item_type} items\")\n",
    "                return\n",
    "        print(f\"{prefix}{key_str}{type(obj).__name__} of mixed types\")\n",
    "        for item in obj:\n",
    "            print_types_with_key_names(item, indent=indent + 4)\n",
    "    else:\n",
    "        print(f\"{prefix}{key_str}{type(obj).__name__}\")"
   ]
  },
  {
   "cell_type": "code",
   "execution_count": 6,
   "metadata": {},
   "outputs": [],
   "source": [
    "session = aiohttp.ClientSession()"
   ]
  },
  {
   "cell_type": "code",
   "execution_count": 7,
   "metadata": {},
   "outputs": [],
   "source": [
    "embedding = ingest_manager.fetch_embedding(session=session, node=nodes[0], model=\"togethercomputer/m2-bert-80M-32k-retrieval\")"
   ]
  },
  {
   "cell_type": "code",
   "execution_count": null,
   "metadata": {},
   "outputs": [],
   "source": [
    "response = await embedding\n",
    "response"
   ]
  },
  {
   "cell_type": "code",
   "execution_count": 9,
   "metadata": {},
   "outputs": [
    {
     "name": "stdout",
     "output_type": "stream",
     "text": [
      "list of float items\n"
     ]
    }
   ],
   "source": [
    "print_types_with_key_names(response)"
   ]
  },
  {
   "cell_type": "code",
   "execution_count": null,
   "metadata": {},
   "outputs": [],
   "source": [
    "response['data'][0]['embedding']"
   ]
  },
  {
   "cell_type": "code",
   "execution_count": 10,
   "metadata": {},
   "outputs": [],
   "source": [
    "embeddings = ingest_manager.generate_embeddings_rest(nodes)"
   ]
  },
  {
   "cell_type": "code",
   "execution_count": 11,
   "metadata": {},
   "outputs": [
    {
     "name": "stderr",
     "output_type": "stream",
     "text": [
      "2024-03-04 13:21:44,995 - gef_ml.ingestion - INFO - Generating embeddings for 22 nodes using model togethercomputer/m2-bert-80M-32k-retrieval\n",
      "Creating tasks: 100%|██████████| 22/22 [00:00<00:00, 98689.51it/s]\n"
     ]
    }
   ],
   "source": [
    "resp = await embeddings"
   ]
  },
  {
   "cell_type": "code",
   "execution_count": 13,
   "metadata": {},
   "outputs": [
    {
     "name": "stdout",
     "output_type": "stream",
     "text": [
      "list of mixed types\n",
      "    list of float items\n",
      "    list of float items\n",
      "    list of float items\n",
      "    list of float items\n",
      "    list of float items\n",
      "    list of float items\n",
      "    list of float items\n",
      "    list of float items\n",
      "    list of float items\n",
      "    list of float items\n",
      "    list of float items\n",
      "    list of float items\n",
      "    list of float items\n",
      "    list of float items\n",
      "    list of float items\n",
      "    list of float items\n",
      "    list of float items\n",
      "    list of float items\n",
      "    list of float items\n",
      "    list of float items\n",
      "    list of float items\n",
      "    list of float items\n"
     ]
    }
   ],
   "source": [
    "print_types_with_key_names(resp)"
   ]
  },
  {
   "cell_type": "code",
   "execution_count": 15,
   "metadata": {},
   "outputs": [
    {
     "data": {
      "text/plain": [
       "'page_label: 1\\nfilename: p6930_doc2.pdf\\nextension: .pdf\\nproject_id: 6930\\ndoc_id: 2\\n\\n_______________________________________________________________________________________ _____________________________  \\n \\nGEF ID:  6930  \\nCountry/Region:  China  \\nProject Title:  Energy Efficiency Improvement in Public Sector Buildings   \\nGEF Agency:  UNDP  GEF Agency Project ID:  5395 (UNDP)  \\nType of Trust Fund:  GEF Trust Fund  GEF Focal Area (s):  Climate Change  \\nGEF -5 Focal Area/ LDCF/SCCF Objective (s):   \\nAnticipated Financing  PPG:  $200,000  Project Grant:  $8,932,420  \\nCo-financing:  $62,500,000  Total Project Cost:  $71,632,420  \\nPIF Approval:   Council Approval/Expected:  October 01, 2015  \\nCEO Endorsement/Approval   Expected Project Start Date:   \\nProgram Manager:  Ming Yang  Agency Contact Person:  Manuel L. Soriano  \\n \\nReview Criteria  Questions  Secretariat Comment at PIF (PFD)/Work \\nProgram Inclusion 1 Secretariat Comment At CEO \\nEndorsement(FSP)/Approval (MSP)  \\nEligibility  1. Is the participating country \\neligible ? MY 8/12/2014  \\nYes.  \\n2. Has the operational  focal point  \\nendorsed the project?  MY 8/12/2014  \\nYes. \\nPPG: $200,000 \\nPPG fee: $19,000 \\nProject: $8,932,420 \\nProject fee: $848,580 \\nTotal: $10,000,000   \\nResource \\nAvailability  \\n \\n \\n \\n 3.'"
      ]
     },
     "execution_count": 15,
     "metadata": {},
     "output_type": "execute_result"
    }
   ],
   "source": [
    "from llama_index.core.schema import MetadataMode\n",
    "nodes[0].get_content(metadata_mode=MetadataMode.EMBED)"
   ]
  },
  {
   "cell_type": "code",
   "execution_count": null,
   "metadata": {},
   "outputs": [],
   "source": []
  }
 ],
 "metadata": {
  "kernelspec": {
   "display_name": ".venv",
   "language": "python",
   "name": "python3"
  },
  "language_info": {
   "codemirror_mode": {
    "name": "ipython",
    "version": 3
   },
   "file_extension": ".py",
   "mimetype": "text/x-python",
   "name": "python",
   "nbconvert_exporter": "python",
   "pygments_lexer": "ipython3",
   "version": "3.10.12"
  }
 },
 "nbformat": 4,
 "nbformat_minor": 2
}
